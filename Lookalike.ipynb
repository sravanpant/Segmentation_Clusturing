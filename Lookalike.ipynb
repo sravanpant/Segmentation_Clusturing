{
 "cells": [
  {
   "cell_type": "markdown",
   "id": "419ee95e-c275-48ad-95b2-514f3a513c39",
   "metadata": {},
   "source": [
    "# Lookalike Model Development\n",
    "Introduction\n",
    "The goal is to build a Lookalike Model that recommends 3 similar customers for each customer based on their profile and transaction history. The model uses both customer and product information and assigns a similarity score to each recommended customer. We will focus on the first 20 customers (CustomerID: C0001 - C0020)."
   ]
  },
  {
   "cell_type": "markdown",
   "id": "aa8e1c88-8baf-4ef0-a852-0dd88c066684",
   "metadata": {},
   "source": [
    "# Approach\n",
    "Data Preparation:\n",
    "\n",
    "Merge Datasets: Combine the Customers, Transactions, and Products datasets to have a complete view of each customer's profile and transaction history.\n",
    "Feature Engineering: Create features that represent customer profiles and behaviors, including demographic information and transaction patterns.\n",
    "Feature Representation:\n",
    "\n",
    "Customer Profile: Encode categorical variables like Region and Category using one-hot encoding.\n",
    "Transaction History: Aggregate transaction data to capture purchasing behavior, such as total spend per category, number of transactions, etc.\n",
    "Similarity Computation:\n",
    "\n",
    "Vectorization: Represent each customer as a feature vector combining their profile and transaction features.\n",
    "Normalization: Normalize the feature vectors to ensure that no single feature dominates the similarity measure.\n",
    "Similarity Metric: Use cosine similarity to compute the similarity between customers.\n",
    "Generating Recommendations:\n",
    "\n",
    "For each target customer (C0001 - C0020), find the top 3 most similar customers based on the similarity scores.\n",
    "Assign Similarity Scores: Provide the similarity score for each recommended customer.\n",
    "Output Preparation:\n",
    "\n",
    "Create a Lookalike.csv file with the required format: Map<cust_id, List<cust_id, score>>."
   ]
  },
  {
   "cell_type": "markdown",
   "id": "07ba4c26-a3a9-4e92-adea-b94c372ebdb6",
   "metadata": {},
   "source": [
    "# Implementation\n",
    "Below is the step-by-step implementation using Python."
   ]
  },
  {
   "cell_type": "markdown",
   "id": "ef4239a5-139f-4db1-86c8-b5c782410994",
   "metadata": {},
   "source": [
    "# 1. Import Necessary Libraries"
   ]
  },
  {
   "cell_type": "code",
   "execution_count": 15,
   "id": "fe5de3ee-ace4-4871-962b-f11de587af75",
   "metadata": {},
   "outputs": [],
   "source": [
    "import pandas as pd\n",
    "import numpy as np\n",
    "from sklearn.preprocessing import OneHotEncoder, MinMaxScaler\n",
    "from sklearn.metrics.pairwise import cosine_similarity\n",
    "import json\n",
    "import warnings\n",
    "warnings.filterwarnings('ignore')"
   ]
  },
  {
   "cell_type": "markdown",
   "id": "7facc080-4985-42fe-aebe-3311da5a02b6",
   "metadata": {},
   "source": [
    "# 2. Load the Datasets"
   ]
  },
  {
   "cell_type": "code",
   "execution_count": 16,
   "id": "72de067d-2c76-4a9e-b53f-b71e70170c0d",
   "metadata": {},
   "outputs": [],
   "source": [
    "# Load the datasets\n",
    "customers = pd.read_csv('Customers.csv')\n",
    "products = pd.read_csv('Products.csv')\n",
    "transactions = pd.read_csv('Transactions.csv')\n",
    "\n",
    "# Convert dates to datetime\n",
    "customers['SignupDate'] = pd.to_datetime(customers['SignupDate'])\n",
    "transactions['TransactionDate'] = pd.to_datetime(transactions['TransactionDate'])"
   ]
  },
  {
   "cell_type": "markdown",
   "id": "22dcefbb-0c56-4742-8784-7bf0fd01294c",
   "metadata": {},
   "source": [
    "# 3. Data Preparation and Merging"
   ]
  },
  {
   "cell_type": "markdown",
   "id": "06856f30-dff4-4cbb-8ccc-5c967a0d4270",
   "metadata": {},
   "source": [
    "## 3.1 Merge Transactions with Products"
   ]
  },
  {
   "cell_type": "code",
   "execution_count": 17,
   "id": "488a2392-647c-4c99-bd68-fbcb207b48c7",
   "metadata": {},
   "outputs": [],
   "source": [
    "# Merge Transactions with Products on 'ProductID'\n",
    "transactions_products = pd.merge(transactions, products, on='ProductID', how='left')"
   ]
  },
  {
   "cell_type": "markdown",
   "id": "33b17d08-45d0-4b8d-a15f-e71f90a4b400",
   "metadata": {},
   "source": [
    "## 3.2 Merge with Customers"
   ]
  },
  {
   "cell_type": "code",
   "execution_count": 18,
   "id": "4e49e972-4899-44a0-9c16-e8d436805443",
   "metadata": {},
   "outputs": [],
   "source": [
    "# Merge the above with Customers on 'CustomerID'\n",
    "full_data = pd.merge(transactions_products, customers, on='CustomerID', how='left')"
   ]
  },
  {
   "cell_type": "markdown",
   "id": "d46fe573-88d3-480e-9c08-332938c80c26",
   "metadata": {},
   "source": [
    "# 4. Feature Engineering\n"
   ]
  },
  {
   "cell_type": "markdown",
   "id": "b3ed22f0-8363-478a-8187-2e033dcf0c1c",
   "metadata": {},
   "source": [
    "## 4.1 Aggregate Transaction Data\n",
    "For each customer, we aggregate transaction data to obtain features like:\n",
    "\n",
    "Total spend per category.\n",
    "Total quantity purchased per category.\n",
    "Number of unique products purchased.\n",
    "Total transactions."
   ]
  },
  {
   "cell_type": "code",
   "execution_count": 19,
   "id": "c41be92e-170f-4821-a4eb-8d5baebe37df",
   "metadata": {},
   "outputs": [],
   "source": [
    "# Total spend per category\n",
    "spend_per_category = full_data.groupby(['CustomerID', 'Category'])['TotalValue'].sum().unstack(fill_value=0)\n",
    "\n",
    "# Total quantity per category\n",
    "quantity_per_category = full_data.groupby(['CustomerID', 'Category'])['Quantity'].sum().unstack(fill_value=0)\n",
    "\n",
    "# Number of unique products purchased\n",
    "unique_products = full_data.groupby('CustomerID')['ProductID'].nunique().rename('UniqueProducts')\n",
    "\n",
    "# Total transactions\n",
    "total_transactions = full_data.groupby('CustomerID')['TransactionID'].nunique().rename('TotalTransactions')\n",
    "\n",
    "# Combine all transaction features\n",
    "transaction_features = pd.concat([spend_per_category, quantity_per_category, unique_products, total_transactions], axis=1)\n",
    "transaction_features.fillna(0, inplace=True)"
   ]
  },
  {
   "cell_type": "markdown",
   "id": "3ff3c5fc-6e0e-4bdd-91df-c823dc09c2af",
   "metadata": {},
   "source": [
    "## 4.2 Encode Customer Profile Information\n",
    "Encode categorical variables:\n",
    "Region: One-hot encoding."
   ]
  },
  {
   "cell_type": "code",
   "execution_count": 20,
   "id": "d3347ea7-3013-49be-8700-160471ee3127",
   "metadata": {},
   "outputs": [],
   "source": [
    "from sklearn.preprocessing import OneHotEncoder\n",
    "\n",
    "region_encoder = OneHotEncoder(sparse_output=False)  # Use 'sparse_output' instead of 'sparse'\n",
    "region_encoded = region_encoder.fit_transform(customers[['Region']])\n",
    "\n",
    "region_encoded_df = pd.DataFrame(\n",
    "    region_encoded,\n",
    "    columns=region_encoder.get_feature_names_out(['Region']),\n",
    "    index=customers['CustomerID']\n",
    ")\n",
    "\n",
    "# Prepare customer features\n",
    "customer_features = region_encoded_df\n"
   ]
  },
  {
   "cell_type": "markdown",
   "id": "fa7843ca-8d14-4e37-9346-b31f31d6cbe5",
   "metadata": {},
   "source": [
    "## 4.3 Combine Customer Profile and Transaction Features"
   ]
  },
  {
   "cell_type": "code",
   "execution_count": 21,
   "id": "82ce9bb7-83ff-4ae7-9f0e-33870b2d5730",
   "metadata": {},
   "outputs": [],
   "source": [
    "# Merge customer features with transaction features\n",
    "customer_data = customer_features.join(transaction_features, how='left')\n",
    "customer_data.fillna(0, inplace=True)\n",
    "\n",
    "# Reset index to have CustomerID as a column\n",
    "customer_data.reset_index(inplace=True)"
   ]
  },
  {
   "cell_type": "markdown",
   "id": "029365fc-a4b3-4576-8f88-9e78eff3ba8a",
   "metadata": {},
   "source": [
    "# 5. Feature Scaling\n",
    "Normalize features to ensure fair similarity computation."
   ]
  },
  {
   "cell_type": "code",
   "execution_count": 22,
   "id": "ae2750ea-ff2b-4c35-ad62-87204b46cf82",
   "metadata": {},
   "outputs": [],
   "source": [
    "# Identify feature columns\n",
    "feature_cols = customer_data.columns.drop('CustomerID')\n",
    "\n",
    "# Initialize scaler\n",
    "scaler = MinMaxScaler()\n",
    "\n",
    "# Fit and transform features\n",
    "customer_data_scaled = customer_data.copy()\n",
    "customer_data_scaled[feature_cols] = scaler.fit_transform(customer_data[feature_cols])\n",
    "\n",
    "# Set CustomerID as index\n",
    "customer_data_scaled.set_index('CustomerID', inplace=True)"
   ]
  },
  {
   "cell_type": "markdown",
   "id": "867545cb-44d4-4f54-8f76-ea538a536f26",
   "metadata": {},
   "source": [
    "# 6. Similarity Computation\n",
    "Compute cosine similarity between customers."
   ]
  },
  {
   "cell_type": "code",
   "execution_count": 23,
   "id": "6ef0bf06-267b-45f5-a10b-8382f16a38a4",
   "metadata": {},
   "outputs": [],
   "source": [
    "# Compute cosine similarity matrix\n",
    "similarity_matrix = cosine_similarity(customer_data_scaled)\n",
    "\n",
    "# Convert to DataFrame\n",
    "similarity_df = pd.DataFrame(similarity_matrix, index=customer_data_scaled.index, columns=customer_data_scaled.index)"
   ]
  },
  {
   "cell_type": "markdown",
   "id": "b58f148c-36c9-44cb-b0ce-75b9b25dfd6e",
   "metadata": {},
   "source": [
    "# 7. Generating Lookalike Recommendations\n",
    "For each of the first 20 customers, find the top 3 most similar customers (excluding themselves)."
   ]
  },
  {
   "cell_type": "code",
   "execution_count": 24,
   "id": "642b35b4-0a6a-4264-a25b-9c880607043b",
   "metadata": {},
   "outputs": [],
   "source": [
    "# Get list of first 20 customers\n",
    "first_20_customers = customers['CustomerID'].head(20).tolist()\n",
    "\n",
    "# Initialize dictionary to store recommendations\n",
    "lookalike_dict = {}\n",
    "\n",
    "for cust_id in first_20_customers:\n",
    "    # Get similarity scores for the customer\n",
    "    sim_scores = similarity_df.loc[cust_id]\n",
    "    \n",
    "    # Exclude self-similarity\n",
    "    sim_scores = sim_scores.drop(index=cust_id)\n",
    "    \n",
    "    # Get top 3 similar customers\n",
    "    top_3_customers = sim_scores.nlargest(3)\n",
    "    \n",
    "    # Store in dictionary\n",
    "    lookalike_dict[cust_id] = list(zip(top_3_customers.index, top_3_customers.values))"
   ]
  },
  {
   "cell_type": "markdown",
   "id": "eaee5cad-30bf-4f97-8ac7-0d3507a2f7aa",
   "metadata": {},
   "source": [
    "# 8. Prepare Output File"
   ]
  },
  {
   "cell_type": "markdown",
   "id": "9f1852bb-1bf5-464a-9840-eee89e559d83",
   "metadata": {},
   "source": [
    "## Create Lookalike.csv with the map as specified."
   ]
  },
  {
   "cell_type": "code",
   "execution_count": 25,
   "id": "a5bda654-ecdc-4bc5-bc7a-368b03cf405a",
   "metadata": {},
   "outputs": [],
   "source": [
    "# Convert the lookalike dictionary to a list of dictionaries\n",
    "lookalike_list = []\n",
    "for cust_id, recommendations in lookalike_dict.items():\n",
    "    recs = [{'cust_id': rec[0], 'score': rec[1]} for rec in recommendations]\n",
    "    lookalike_list.append({'cust_id': cust_id, 'recommendations': recs})\n",
    "\n",
    "# Convert to DataFrame\n",
    "lookalike_df = pd.DataFrame(lookalike_list)\n",
    "\n",
    "# Save to CSV\n",
    "lookalike_df.to_csv('Lookalike.csv', index=False)"
   ]
  },
  {
   "cell_type": "markdown",
   "id": "06b9ecda-a80d-4bf3-a4da-9a7ea9fec209",
   "metadata": {},
   "source": [
    "# 9. Display Top 3 Lookalikes for First 20 Customers"
   ]
  },
  {
   "cell_type": "code",
   "execution_count": 26,
   "id": "36875752-da49-4518-965d-3b750649367b",
   "metadata": {},
   "outputs": [
    {
     "name": "stdout",
     "output_type": "stream",
     "text": [
      "CustomerID: C0001\n",
      "Top 3 Lookalike Customers with Similarity Scores:\n",
      " - CustomerID: C0120, Similarity Score: 0.9619\n",
      " - CustomerID: C0181, Similarity Score: 0.9616\n",
      " - CustomerID: C0091, Similarity Score: 0.9590\n",
      "\n",
      "\n",
      "CustomerID: C0002\n",
      "Top 3 Lookalike Customers with Similarity Scores:\n",
      " - CustomerID: C0159, Similarity Score: 0.9915\n",
      " - CustomerID: C0178, Similarity Score: 0.9844\n",
      " - CustomerID: C0134, Similarity Score: 0.9732\n",
      "\n",
      "\n",
      "CustomerID: C0003\n",
      "Top 3 Lookalike Customers with Similarity Scores:\n",
      " - CustomerID: C0031, Similarity Score: 0.9806\n",
      " - CustomerID: C0152, Similarity Score: 0.9623\n",
      " - CustomerID: C0085, Similarity Score: 0.9623\n",
      "\n",
      "\n",
      "CustomerID: C0004\n",
      "Top 3 Lookalike Customers with Similarity Scores:\n",
      " - CustomerID: C0113, Similarity Score: 0.9720\n",
      " - CustomerID: C0012, Similarity Score: 0.9538\n",
      " - CustomerID: C0148, Similarity Score: 0.9483\n",
      "\n",
      "\n",
      "CustomerID: C0005\n",
      "Top 3 Lookalike Customers with Similarity Scores:\n",
      " - CustomerID: C0007, Similarity Score: 0.9947\n",
      " - CustomerID: C0140, Similarity Score: 0.9625\n",
      " - CustomerID: C0146, Similarity Score: 0.9561\n",
      "\n",
      "\n",
      "CustomerID: C0006\n",
      "Top 3 Lookalike Customers with Similarity Scores:\n",
      " - CustomerID: C0169, Similarity Score: 0.9678\n",
      " - CustomerID: C0108, Similarity Score: 0.9636\n",
      " - CustomerID: C0187, Similarity Score: 0.9396\n",
      "\n",
      "\n",
      "CustomerID: C0007\n",
      "Top 3 Lookalike Customers with Similarity Scores:\n",
      " - CustomerID: C0005, Similarity Score: 0.9947\n",
      " - CustomerID: C0146, Similarity Score: 0.9473\n",
      " - CustomerID: C0140, Similarity Score: 0.9429\n",
      "\n",
      "\n",
      "CustomerID: C0008\n",
      "Top 3 Lookalike Customers with Similarity Scores:\n",
      " - CustomerID: C0098, Similarity Score: 0.9588\n",
      " - CustomerID: C0194, Similarity Score: 0.9568\n",
      " - CustomerID: C0109, Similarity Score: 0.9548\n",
      "\n",
      "\n",
      "CustomerID: C0009\n",
      "Top 3 Lookalike Customers with Similarity Scores:\n",
      " - CustomerID: C0198, Similarity Score: 0.9821\n",
      " - CustomerID: C0061, Similarity Score: 0.9490\n",
      " - CustomerID: C0119, Similarity Score: 0.9470\n",
      "\n",
      "\n",
      "CustomerID: C0010\n",
      "Top 3 Lookalike Customers with Similarity Scores:\n",
      " - CustomerID: C0111, Similarity Score: 0.9667\n",
      " - CustomerID: C0062, Similarity Score: 0.9403\n",
      " - CustomerID: C0044, Similarity Score: 0.9391\n",
      "\n",
      "\n",
      "CustomerID: C0011\n",
      "Top 3 Lookalike Customers with Similarity Scores:\n",
      " - CustomerID: C0188, Similarity Score: 0.9639\n",
      " - CustomerID: C0107, Similarity Score: 0.9616\n",
      " - CustomerID: C0190, Similarity Score: 0.9607\n",
      "\n",
      "\n",
      "CustomerID: C0012\n",
      "Top 3 Lookalike Customers with Similarity Scores:\n",
      " - CustomerID: C0148, Similarity Score: 0.9871\n",
      " - CustomerID: C0152, Similarity Score: 0.9707\n",
      " - CustomerID: C0113, Similarity Score: 0.9676\n",
      "\n",
      "\n",
      "CustomerID: C0013\n",
      "Top 3 Lookalike Customers with Similarity Scores:\n",
      " - CustomerID: C0099, Similarity Score: 0.9766\n",
      " - CustomerID: C0107, Similarity Score: 0.9690\n",
      " - CustomerID: C0188, Similarity Score: 0.9679\n",
      "\n",
      "\n",
      "CustomerID: C0014\n",
      "Top 3 Lookalike Customers with Similarity Scores:\n",
      " - CustomerID: C0060, Similarity Score: 0.9977\n",
      " - CustomerID: C0198, Similarity Score: 0.9460\n",
      " - CustomerID: C0009, Similarity Score: 0.9351\n",
      "\n",
      "\n",
      "CustomerID: C0015\n",
      "Top 3 Lookalike Customers with Similarity Scores:\n",
      " - CustomerID: C0036, Similarity Score: 0.9591\n",
      " - CustomerID: C0144, Similarity Score: 0.9573\n",
      " - CustomerID: C0131, Similarity Score: 0.9503\n",
      "\n",
      "\n",
      "CustomerID: C0016\n",
      "Top 3 Lookalike Customers with Similarity Scores:\n",
      " - CustomerID: C0117, Similarity Score: 0.9895\n",
      " - CustomerID: C0034, Similarity Score: 0.9565\n",
      " - CustomerID: C0094, Similarity Score: 0.9527\n",
      "\n",
      "\n",
      "CustomerID: C0017\n",
      "Top 3 Lookalike Customers with Similarity Scores:\n",
      " - CustomerID: C0075, Similarity Score: 0.9803\n",
      " - CustomerID: C0064, Similarity Score: 0.9701\n",
      " - CustomerID: C0179, Similarity Score: 0.9647\n",
      "\n",
      "\n",
      "CustomerID: C0018\n",
      "Top 3 Lookalike Customers with Similarity Scores:\n",
      " - CustomerID: C0125, Similarity Score: 0.9728\n",
      " - CustomerID: C0068, Similarity Score: 0.9714\n",
      " - CustomerID: C0122, Similarity Score: 0.9674\n",
      "\n",
      "\n",
      "CustomerID: C0019\n",
      "Top 3 Lookalike Customers with Similarity Scores:\n",
      " - CustomerID: C0070, Similarity Score: 0.9695\n",
      " - CustomerID: C0064, Similarity Score: 0.9604\n",
      " - CustomerID: C0017, Similarity Score: 0.9547\n",
      "\n",
      "\n",
      "CustomerID: C0020\n",
      "Top 3 Lookalike Customers with Similarity Scores:\n",
      " - CustomerID: C0058, Similarity Score: 0.9433\n",
      " - CustomerID: C0033, Similarity Score: 0.9411\n",
      " - CustomerID: C0050, Similarity Score: 0.9243\n",
      "\n",
      "\n"
     ]
    }
   ],
   "source": [
    "for item in lookalike_list:\n",
    "    cust_id = item['cust_id']\n",
    "    print(f\"CustomerID: {cust_id}\")\n",
    "    print(\"Top 3 Lookalike Customers with Similarity Scores:\")\n",
    "    for rec in item['recommendations']:\n",
    "        print(f\" - CustomerID: {rec['cust_id']}, Similarity Score: {rec['score']:.4f}\")\n",
    "    print(\"\\n\")"
   ]
  },
  {
   "cell_type": "markdown",
   "id": "565dd53a-be76-4a44-a766-d67eeeac6a37",
   "metadata": {},
   "source": [
    "### Results\n",
    "Here are the top 3 lookalike customers with their similarity scores for the first 20 customers (C0001 - C0020):"
   ]
  }
 ],
 "metadata": {
  "kernelspec": {
   "display_name": "Python 3 (ipykernel)",
   "language": "python",
   "name": "python3"
  },
  "language_info": {
   "codemirror_mode": {
    "name": "ipython",
    "version": 3
   },
   "file_extension": ".py",
   "mimetype": "text/x-python",
   "name": "python",
   "nbconvert_exporter": "python",
   "pygments_lexer": "ipython3",
   "version": "3.11.9"
  }
 },
 "nbformat": 4,
 "nbformat_minor": 5
}
